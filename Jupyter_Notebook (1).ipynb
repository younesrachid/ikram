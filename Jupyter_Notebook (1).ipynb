{
 "cells": [
  {
   "cell_type": "markdown",
   "metadata": {},
   "source": [
    "<center>\n",
    "    <img src=\"https://cf-courses-data.s3.us.cloud-object-storage.appdomain.cloud/IBMDeveloperSkillsNetwork-DS0105EN-SkillsNetwork/labs/Module2/images/SN_web_lightmode.png\" width=\"300\" alt=\"cognitiveclass.ai logo\">\n",
    "</center>\n"
   ]
  },
  {
   "cell_type": "markdown",
   "metadata": {},
   "source": [
    "#### Add your code below following the instructions given in the course\n"
   ]
  },
  {
   "cell_type": "code",
   "execution_count": 2,
   "metadata": {},
   "outputs": [],
   "source": [
    "#Jupyter_Notebook.ipynb"
   ]
  },
  {
   "cell_type": "markdown",
   "metadata": {},
   "source": [
    "## Introduction\n",
    "\n",
    "Ce carnet présente une analyse détaillée des données collectées dans le cadre de notre projet.  \n",
    "Nous allons explorer différentes méthodes pour visualiser et interpréter ces données.\n"
   ]
  },
  {
   "cell_type": "markdown",
   "metadata": {},
   "source": [
    "## Langages de la science des données\n",
    "\n",
    "- Python\n",
    "- R\n",
    "- SQL\n",
    "- Julia\n",
    "- Scala\n",
    "- Java\n"
   ]
  },
  {
   "cell_type": "markdown",
   "metadata": {},
   "source": [
    "## Bibliothèques de science des données\n",
    "\n",
    "- **NumPy** : calcul scientifique, gestion des tableaux multidimensionnels  \n",
    "- **Pandas** : manipulation et analyse des données  \n",
    "- **Matplotlib** : visualisation de données 2D  \n",
    "- **Seaborn** : visualisation statistique basée sur Matplotlib  \n",
    "- **Scikit-learn** : apprentissage automatique (machine learning)  \n",
    "- **TensorFlow** : deep learning et réseaux de neurones  \n",
    "- **Keras** : API haut niveau pour construire des modèles de deep learning  \n",
    "- **Plotly** : graphiques interactifs et visualisations avancées  \n"
   ]
  },
  {
   "cell_type": "markdown",
   "metadata": {},
   "source": [
    "## Outils de la science des données\n",
    "\n",
    "| Outil        | Description                              | Usage principal           |\n",
    "|--------------|----------------------------------------|--------------------------|\n",
    "| Jupyter      | Environnement interactif pour le code  | Exploration & analyse    |\n",
    "| Git          | Contrôle de version                    | Gestion de projet        |\n",
    "| Docker       | Conteneurisation                      | Déploiement et portabilité|\n",
    "| Tableau      | Visualisation de données               | Création de dashboards   |\n",
    "| Apache Spark | Traitement de données massives         | Big Data et analyse      |\n",
    "| VS Code      | Éditeur de code polyvalent             | Développement général    |\n"
   ]
  },
  {
   "cell_type": "markdown",
   "metadata": {},
   "source": [
    "## Exemples d'expressions arithmétiques\n",
    "\n",
    "- Addition : \\( 3 + 5 = 8 \\)  \n",
    "- Soustraction : \\( 10 - 4 = 6 \\)  \n",
    "- Multiplication : \\( 7 \\times 6 = 42 \\)  \n",
    "- Division : \\( \\frac{20}{4} = 5 \\)  \n",
    "- Puissance : \\( 2^3 = 8 \\)  \n",
    "- Racine carrée : \\( \\sqrt{16} = 4 \\)  \n"
   ]
  },
  {
   "cell_type": "code",
   "execution_count": 3,
   "metadata": {},
   "outputs": [
    {
     "name": "stdout",
     "output_type": "stream",
     "text": [
      "Le produit de 5 et 3 est : 15\n",
      "La somme de ce produit et 10 est : 25\n"
     ]
    }
   ],
   "source": [
    "# Définition des nombres\n",
    "a = 5\n",
    "b = 3\n",
    "c = 10\n",
    "\n",
    "# Multiplication\n",
    "produit = a * b\n",
    "\n",
    "# Addition\n",
    "somme = produit + c\n",
    "\n",
    "# Affichage des résultats\n",
    "print(\"Le produit de\", a, \"et\", b, \"est :\", produit)\n",
    "print(\"La somme de ce produit et\", c, \"est :\", somme)\n"
   ]
  },
  {
   "cell_type": "code",
   "execution_count": 4,
   "metadata": {},
   "outputs": [
    {
     "name": "stdout",
     "output_type": "stream",
     "text": [
      "150 minutes correspondent à 2 heure(s) et 30 minute(s).\n"
     ]
    }
   ],
   "source": [
    "# Conversion des minutes en heures\n",
    "\n",
    "minutes = 150  # Exemple : 150 minutes\n",
    "\n",
    "heures = minutes / 60\n",
    "reste_minutes = minutes % 60\n",
    "\n",
    "print(f\"{minutes} minutes correspondent à {int(heures)} heure(s) et {reste_minutes} minute(s).\")\n"
   ]
  },
  {
   "cell_type": "markdown",
   "metadata": {},
   "source": [
    "## Objectifs\n",
    "\n",
    "- Comprendre les concepts fondamentaux de la science des données  \n",
    "- Apprendre à manipuler des données avec Python  \n",
    "- Maîtriser les bibliothèques principales (NumPy, Pandas, Matplotlib)  \n",
    "- Savoir réaliser des analyses statistiques simples  \n",
    "- Développer des compétences en visualisation de données  \n",
    "- Découvrir les bases du machine learning  \n",
    "\n"
   ]
  },
  {
   "cell_type": "markdown",
   "metadata": {},
   "source": [
    "---\n",
    "**Auteur :** Jean Dupont  \n",
    "Date : 31 juillet 2025\n",
    "---\n",
    "\n"
   ]
  },
  {
   "cell_type": "code",
   "execution_count": null,
   "metadata": {},
   "outputs": [],
   "source": []
  }
 ],
 "metadata": {
  "kernelspec": {
   "display_name": "Python 3 (ipykernel)",
   "language": "python",
   "name": "python3"
  },
  "language_info": {
   "codemirror_mode": {
    "name": "ipython",
    "version": 3
   },
   "file_extension": ".py",
   "mimetype": "text/x-python",
   "name": "python",
   "nbconvert_exporter": "python",
   "pygments_lexer": "ipython3",
   "version": "3.12.8"
  }
 },
 "nbformat": 4,
 "nbformat_minor": 4
}
